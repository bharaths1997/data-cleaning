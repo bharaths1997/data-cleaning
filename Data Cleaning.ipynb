{
 "cells": [
  {
   "cell_type": "code",
   "execution_count": 1,
   "id": "2a34e0f9",
   "metadata": {},
   "outputs": [
    {
     "data": {
      "text/html": [
       "<div>\n",
       "<style scoped>\n",
       "    .dataframe tbody tr th:only-of-type {\n",
       "        vertical-align: middle;\n",
       "    }\n",
       "\n",
       "    .dataframe tbody tr th {\n",
       "        vertical-align: top;\n",
       "    }\n",
       "\n",
       "    .dataframe thead th {\n",
       "        text-align: right;\n",
       "    }\n",
       "</style>\n",
       "<table border=\"1\" class=\"dataframe\">\n",
       "  <thead>\n",
       "    <tr style=\"text-align: right;\">\n",
       "      <th></th>\n",
       "      <th>PassengerId</th>\n",
       "      <th>Survived</th>\n",
       "      <th>Pclass</th>\n",
       "      <th>Name</th>\n",
       "      <th>Sex</th>\n",
       "      <th>Age</th>\n",
       "      <th>SibSp</th>\n",
       "      <th>Parch</th>\n",
       "      <th>Ticket</th>\n",
       "      <th>Fare</th>\n",
       "      <th>Cabin</th>\n",
       "      <th>Embarked</th>\n",
       "    </tr>\n",
       "  </thead>\n",
       "  <tbody>\n",
       "    <tr>\n",
       "      <th>0</th>\n",
       "      <td>1</td>\n",
       "      <td>0</td>\n",
       "      <td>3</td>\n",
       "      <td>Braund, Mr. Owen Harris</td>\n",
       "      <td>male</td>\n",
       "      <td>22.0</td>\n",
       "      <td>1</td>\n",
       "      <td>0</td>\n",
       "      <td>A/5 21171</td>\n",
       "      <td>7.2500</td>\n",
       "      <td>NaN</td>\n",
       "      <td>S</td>\n",
       "    </tr>\n",
       "    <tr>\n",
       "      <th>1</th>\n",
       "      <td>2</td>\n",
       "      <td>1</td>\n",
       "      <td>1</td>\n",
       "      <td>Cumings, Mrs. John Bradley (Florence Briggs Th...</td>\n",
       "      <td>female</td>\n",
       "      <td>38.0</td>\n",
       "      <td>1</td>\n",
       "      <td>0</td>\n",
       "      <td>PC 17599</td>\n",
       "      <td>71.2833</td>\n",
       "      <td>C85</td>\n",
       "      <td>C</td>\n",
       "    </tr>\n",
       "    <tr>\n",
       "      <th>2</th>\n",
       "      <td>3</td>\n",
       "      <td>1</td>\n",
       "      <td>3</td>\n",
       "      <td>Heikkinen, Miss. Laina</td>\n",
       "      <td>female</td>\n",
       "      <td>26.0</td>\n",
       "      <td>0</td>\n",
       "      <td>0</td>\n",
       "      <td>STON/O2. 3101282</td>\n",
       "      <td>7.9250</td>\n",
       "      <td>NaN</td>\n",
       "      <td>S</td>\n",
       "    </tr>\n",
       "    <tr>\n",
       "      <th>3</th>\n",
       "      <td>4</td>\n",
       "      <td>1</td>\n",
       "      <td>1</td>\n",
       "      <td>Futrelle, Mrs. Jacques Heath (Lily May Peel)</td>\n",
       "      <td>female</td>\n",
       "      <td>35.0</td>\n",
       "      <td>1</td>\n",
       "      <td>0</td>\n",
       "      <td>113803</td>\n",
       "      <td>53.1000</td>\n",
       "      <td>C123</td>\n",
       "      <td>S</td>\n",
       "    </tr>\n",
       "    <tr>\n",
       "      <th>4</th>\n",
       "      <td>5</td>\n",
       "      <td>0</td>\n",
       "      <td>3</td>\n",
       "      <td>Allen, Mr. William Henry</td>\n",
       "      <td>male</td>\n",
       "      <td>35.0</td>\n",
       "      <td>0</td>\n",
       "      <td>0</td>\n",
       "      <td>373450</td>\n",
       "      <td>8.0500</td>\n",
       "      <td>NaN</td>\n",
       "      <td>S</td>\n",
       "    </tr>\n",
       "  </tbody>\n",
       "</table>\n",
       "</div>"
      ],
      "text/plain": [
       "   PassengerId  Survived  Pclass  \\\n",
       "0            1         0       3   \n",
       "1            2         1       1   \n",
       "2            3         1       3   \n",
       "3            4         1       1   \n",
       "4            5         0       3   \n",
       "\n",
       "                                                Name     Sex   Age  SibSp  \\\n",
       "0                            Braund, Mr. Owen Harris    male  22.0      1   \n",
       "1  Cumings, Mrs. John Bradley (Florence Briggs Th...  female  38.0      1   \n",
       "2                             Heikkinen, Miss. Laina  female  26.0      0   \n",
       "3       Futrelle, Mrs. Jacques Heath (Lily May Peel)  female  35.0      1   \n",
       "4                           Allen, Mr. William Henry    male  35.0      0   \n",
       "\n",
       "   Parch            Ticket     Fare Cabin Embarked  \n",
       "0      0         A/5 21171   7.2500   NaN        S  \n",
       "1      0          PC 17599  71.2833   C85        C  \n",
       "2      0  STON/O2. 3101282   7.9250   NaN        S  \n",
       "3      0            113803  53.1000  C123        S  \n",
       "4      0            373450   8.0500   NaN        S  "
      ]
     },
     "execution_count": 1,
     "metadata": {},
     "output_type": "execute_result"
    }
   ],
   "source": [
    "import pandas as pd\n",
    "import numpy as np\n",
    "\n",
    "# Load the dataset\n",
    "df = pd.read_csv('C:/Users/adals/Downloads/titanic.csv')\n",
    "df.head()\n"
   ]
  },
  {
   "cell_type": "code",
   "execution_count": 2,
   "id": "8ea3eaa9",
   "metadata": {},
   "outputs": [
    {
     "data": {
      "text/plain": [
       "0      False\n",
       "1      False\n",
       "2      False\n",
       "3      False\n",
       "4      False\n",
       "       ...  \n",
       "886    False\n",
       "887    False\n",
       "888    False\n",
       "889    False\n",
       "890    False\n",
       "Length: 891, dtype: bool"
      ]
     },
     "execution_count": 2,
     "metadata": {},
     "output_type": "execute_result"
    }
   ],
   "source": [
    "df.duplicated()\n"
   ]
  },
  {
   "cell_type": "code",
   "execution_count": 3,
   "id": "10288154",
   "metadata": {},
   "outputs": [
    {
     "name": "stdout",
     "output_type": "stream",
     "text": [
      "<class 'pandas.core.frame.DataFrame'>\n",
      "RangeIndex: 891 entries, 0 to 890\n",
      "Data columns (total 12 columns):\n",
      " #   Column       Non-Null Count  Dtype  \n",
      "---  ------       --------------  -----  \n",
      " 0   PassengerId  891 non-null    int64  \n",
      " 1   Survived     891 non-null    int64  \n",
      " 2   Pclass       891 non-null    int64  \n",
      " 3   Name         891 non-null    object \n",
      " 4   Sex          891 non-null    object \n",
      " 5   Age          714 non-null    float64\n",
      " 6   SibSp        891 non-null    int64  \n",
      " 7   Parch        891 non-null    int64  \n",
      " 8   Ticket       891 non-null    object \n",
      " 9   Fare         891 non-null    float64\n",
      " 10  Cabin        204 non-null    object \n",
      " 11  Embarked     889 non-null    object \n",
      "dtypes: float64(2), int64(5), object(5)\n",
      "memory usage: 83.7+ KB\n"
     ]
    }
   ],
   "source": [
    "df.info()\n"
   ]
  },
  {
   "cell_type": "code",
   "execution_count": 4,
   "id": "9e3bb030",
   "metadata": {},
   "outputs": [],
   "source": [
    "# Check the Categorical and Numerical Columns."
   ]
  },
  {
   "cell_type": "code",
   "execution_count": 5,
   "id": "1e39431c",
   "metadata": {},
   "outputs": [
    {
     "name": "stdout",
     "output_type": "stream",
     "text": [
      "Categorical columns : ['Name', 'Sex', 'Ticket', 'Cabin', 'Embarked']\n",
      "Numerical columns : ['PassengerId', 'Survived', 'Pclass', 'Age', 'SibSp', 'Parch', 'Fare']\n"
     ]
    }
   ],
   "source": [
    "# Categorical columns\n",
    "cat_col = [col for col in df.columns if df[col].dtype == 'object']\n",
    "print('Categorical columns :',cat_col)\n",
    "# Numerical columns\n",
    "num_col = [col for col in df.columns if df[col].dtype != 'object']\n",
    "print('Numerical columns :',num_col)\n"
   ]
  },
  {
   "cell_type": "code",
   "execution_count": null,
   "id": "ec963552",
   "metadata": {},
   "outputs": [],
   "source": [
    "# Check the total number of Unique Values in the Categorical Columns"
   ]
  },
  {
   "cell_type": "code",
   "execution_count": 6,
   "id": "fefb8e2d",
   "metadata": {},
   "outputs": [
    {
     "data": {
      "text/plain": [
       "Name        891\n",
       "Sex           2\n",
       "Ticket      681\n",
       "Cabin       147\n",
       "Embarked      3\n",
       "dtype: int64"
      ]
     },
     "execution_count": 6,
     "metadata": {},
     "output_type": "execute_result"
    }
   ],
   "source": [
    "df[cat_col].nunique()\n"
   ]
  },
  {
   "cell_type": "code",
   "execution_count": 7,
   "id": "81fe51e1",
   "metadata": {},
   "outputs": [],
   "source": [
    "# Drop Name and Ticket Columns"
   ]
  },
  {
   "cell_type": "code",
   "execution_count": 8,
   "id": "9df27471",
   "metadata": {},
   "outputs": [
    {
     "data": {
      "text/plain": [
       "(891, 10)"
      ]
     },
     "execution_count": 8,
     "metadata": {},
     "output_type": "execute_result"
    }
   ],
   "source": [
    "df1 = df.drop(columns=['Name','Ticket'])\n",
    "df1.shape\n"
   ]
  },
  {
   "cell_type": "code",
   "execution_count": 9,
   "id": "4d31b59b",
   "metadata": {},
   "outputs": [],
   "source": [
    "# Handling Missing Data"
   ]
  },
  {
   "cell_type": "code",
   "execution_count": 10,
   "id": "326316e9",
   "metadata": {},
   "outputs": [
    {
     "data": {
      "text/plain": [
       "(889, 9)"
      ]
     },
     "execution_count": 10,
     "metadata": {},
     "output_type": "execute_result"
    }
   ],
   "source": [
    "df2 = df1.drop(columns='Cabin')\n",
    "df2.dropna(subset=['Embarked'], axis=0, inplace=True)\n",
    "df2.shape\n"
   ]
  },
  {
   "cell_type": "code",
   "execution_count": 11,
   "id": "1a94ff2e",
   "metadata": {},
   "outputs": [],
   "source": [
    "# Imputing the missing values from past observations."
   ]
  },
  {
   "cell_type": "code",
   "execution_count": 14,
   "id": "a471cf96",
   "metadata": {},
   "outputs": [],
   "source": [
    "# Mean imputation\n",
    "df3 = df2.fillna(df2.Age.mean())\n"
   ]
  },
  {
   "cell_type": "code",
   "execution_count": 13,
   "id": "5112441e",
   "metadata": {},
   "outputs": [
    {
     "data": {
      "text/plain": [
       "PassengerId    0\n",
       "Survived       0\n",
       "Pclass         0\n",
       "Sex            0\n",
       "Age            0\n",
       "SibSp          0\n",
       "Parch          0\n",
       "Fare           0\n",
       "Embarked       0\n",
       "dtype: int64"
      ]
     },
     "execution_count": 13,
     "metadata": {},
     "output_type": "execute_result"
    }
   ],
   "source": [
    "# Let's check the null values again\n",
    "df3.isnull().sum()\n"
   ]
  },
  {
   "cell_type": "code",
   "execution_count": 15,
   "id": "9aad60a3",
   "metadata": {},
   "outputs": [
    {
     "data": {
      "image/png": "[encoded data removed]",
      "text/plain": [
       "<Figure size 640x480 with 1 Axes>"
      ]
     },
     "metadata": {},
     "output_type": "display_data"
    }
   ],
   "source": [
    "# Handling Outliers\n",
    "import matplotlib.pyplot as plt\n",
    "\n",
    "plt.boxplot(df3['Age'], vert=False)\n",
    "plt.ylabel('Variable')\n",
    "plt.xlabel('Age')\n",
    "plt.title('Box Plot')\n",
    "plt.show()\n"
   ]
  },
  {
   "cell_type": "code",
   "execution_count": 16,
   "id": "eb8b5301",
   "metadata": {},
   "outputs": [
    {
     "name": "stdout",
     "output_type": "stream",
     "text": [
      "Lower Bound : 3.705400107925648\n",
      "Upper Bound : 55.578785285332785\n"
     ]
    }
   ],
   "source": [
    "# calculate summary statistics\n",
    "mean = df3['Age'].mean()\n",
    "std = df3['Age'].std()\n",
    "\n",
    "# Calculate the lower and upper bounds\n",
    "lower_bound = mean - std*2\n",
    "upper_bound = mean + std*2\n",
    "\n",
    "print('Lower Bound :',lower_bound)\n",
    "print('Upper Bound :',upper_bound)\n",
    "\n",
    "# Drop the outliers\n",
    "df4 = df3[(df3['Age'] >= lower_bound) \n",
    "\t\t\t\t& (df3['Age'] <= upper_bound)]\n"
   ]
  },
  {
   "cell_type": "code",
   "execution_count": 17,
   "id": "8e856282",
   "metadata": {},
   "outputs": [],
   "source": [
    "# Data Transformation "
   ]
  },
  {
   "cell_type": "code",
   "execution_count": 18,
   "id": "badccf5e",
   "metadata": {},
   "outputs": [],
   "source": [
    "X = df3[['Pclass','Sex','Age', 'SibSp','Parch','Fare','Embarked']]\n",
    "Y = df3['Survived']\n"
   ]
  },
  {
   "cell_type": "code",
   "execution_count": 19,
   "id": "ba1e8e42",
   "metadata": {},
   "outputs": [],
   "source": [
    "# Data formatting\n",
    "# Scaling\n"
   ]
  },
  {
   "cell_type": "code",
   "execution_count": 21,
   "id": "08e41f84",
   "metadata": {},
   "outputs": [
    {
     "name": "stderr",
     "output_type": "stream",
     "text": [
      "C:\\Users\\adals\\AppData\\Local\\Temp\\ipykernel_21448\\1233491986.py:10: SettingWithCopyWarning: \n",
      "A value is trying to be set on a copy of a slice from a DataFrame.\n",
      "Try using .loc[row_indexer,col_indexer] = value instead\n",
      "\n",
      "See the caveats in the documentation: https://pandas.pydata.org/pandas-docs/stable/user_guide/indexing.html#returning-a-view-versus-a-copy\n",
      "  x1[num_col_] = scaler.fit_transform(x1[num_col_])\n"
     ]
    },
    {
     "data": {
      "text/html": [
       "<div>\n",
       "<style scoped>\n",
       "    .dataframe tbody tr th:only-of-type {\n",
       "        vertical-align: middle;\n",
       "    }\n",
       "\n",
       "    .dataframe tbody tr th {\n",
       "        vertical-align: top;\n",
       "    }\n",
       "\n",
       "    .dataframe thead th {\n",
       "        text-align: right;\n",
       "    }\n",
       "</style>\n",
       "<table border=\"1\" class=\"dataframe\">\n",
       "  <thead>\n",
       "    <tr style=\"text-align: right;\">\n",
       "      <th></th>\n",
       "      <th>Pclass</th>\n",
       "      <th>Sex</th>\n",
       "      <th>Age</th>\n",
       "      <th>SibSp</th>\n",
       "      <th>Parch</th>\n",
       "      <th>Fare</th>\n",
       "      <th>Embarked</th>\n",
       "    </tr>\n",
       "  </thead>\n",
       "  <tbody>\n",
       "    <tr>\n",
       "      <th>0</th>\n",
       "      <td>1.0</td>\n",
       "      <td>male</td>\n",
       "      <td>0.271174</td>\n",
       "      <td>0.125</td>\n",
       "      <td>0.0</td>\n",
       "      <td>0.014151</td>\n",
       "      <td>S</td>\n",
       "    </tr>\n",
       "    <tr>\n",
       "      <th>1</th>\n",
       "      <td>0.0</td>\n",
       "      <td>female</td>\n",
       "      <td>0.472229</td>\n",
       "      <td>0.125</td>\n",
       "      <td>0.0</td>\n",
       "      <td>0.139136</td>\n",
       "      <td>C</td>\n",
       "    </tr>\n",
       "    <tr>\n",
       "      <th>2</th>\n",
       "      <td>1.0</td>\n",
       "      <td>female</td>\n",
       "      <td>0.321438</td>\n",
       "      <td>0.000</td>\n",
       "      <td>0.0</td>\n",
       "      <td>0.015469</td>\n",
       "      <td>S</td>\n",
       "    </tr>\n",
       "    <tr>\n",
       "      <th>3</th>\n",
       "      <td>0.0</td>\n",
       "      <td>female</td>\n",
       "      <td>0.434531</td>\n",
       "      <td>0.125</td>\n",
       "      <td>0.0</td>\n",
       "      <td>0.103644</td>\n",
       "      <td>S</td>\n",
       "    </tr>\n",
       "    <tr>\n",
       "      <th>4</th>\n",
       "      <td>1.0</td>\n",
       "      <td>male</td>\n",
       "      <td>0.434531</td>\n",
       "      <td>0.000</td>\n",
       "      <td>0.0</td>\n",
       "      <td>0.015713</td>\n",
       "      <td>S</td>\n",
       "    </tr>\n",
       "  </tbody>\n",
       "</table>\n",
       "</div>"
      ],
      "text/plain": [
       "   Pclass     Sex       Age  SibSp  Parch      Fare Embarked\n",
       "0     1.0    male  0.271174  0.125    0.0  0.014151        S\n",
       "1     0.0  female  0.472229  0.125    0.0  0.139136        C\n",
       "2     1.0  female  0.321438  0.000    0.0  0.015469        S\n",
       "3     0.0  female  0.434531  0.125    0.0  0.103644        S\n",
       "4     1.0    male  0.434531  0.000    0.0  0.015713        S"
      ]
     },
     "execution_count": 21,
     "metadata": {},
     "output_type": "execute_result"
    }
   ],
   "source": [
    "from sklearn.preprocessing import MinMaxScaler\n",
    "\n",
    "# initialising the MinMaxScaler\n",
    "scaler = MinMaxScaler(feature_range=(0, 1))\n",
    "\n",
    "# Numerical columns\n",
    "num_col_ = [col for col in X.columns if X[col].dtype != 'object']\n",
    "x1 = X\n",
    "# learning the statistical parameters for each of the data and transforming\n",
    "x1[num_col_] = scaler.fit_transform(x1[num_col_])\n",
    "x1.head()\n"
   ]
  },
  {
   "cell_type": "code",
   "execution_count": 22,
   "id": "3533e1dc",
   "metadata": {},
   "outputs": [],
   "source": [
    "# Standardization (Z-score scaling)"
   ]
  },
  {
   "cell_type": "code",
   "execution_count": 23,
   "id": "334e22b2",
   "metadata": {},
   "outputs": [],
   "source": [
    "# Z = (X - μ) / σ"
   ]
  },
  {
   "cell_type": "code",
   "execution_count": 24,
   "id": "10aa4c50",
   "metadata": {},
   "outputs": [],
   "source": [
    "# Data Cleansing Tools"
   ]
  },
  {
   "cell_type": "code",
   "execution_count": 25,
   "id": "81785631",
   "metadata": {},
   "outputs": [],
   "source": [
    "# OpenRefine\n",
    "# Trifacta Wrangler \n",
    "# TIBCO Clarity\n",
    "# Cloudingo\n",
    "# IBM Infosphere Quality Stage"
   ]
  },
  {
   "cell_type": "code",
   "execution_count": null,
   "id": "fe913876",
   "metadata": {},
   "outputs": [],
   "source": []
  }
 ],
 "metadata": {
  "kernelspec": {
   "display_name": "Python 3 (ipykernel)",
   "language": "python",
   "name": "python3"
  },
  "language_info": {
   "codemirror_mode": {
    "name": "ipython",
    "version": 3
   },
   "file_extension": ".py",
   "mimetype": "text/x-python",
   "name": "python",
   "nbconvert_exporter": "python",
   "pygments_lexer": "ipython3",
   "version": "3.11.5"
  }
 },
 "nbformat": 4,
 "nbformat_minor": 5
}
